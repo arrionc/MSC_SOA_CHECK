{
 "cells": [
  {
   "cell_type": "code",
   "execution_count": 1,
   "metadata": {},
   "outputs": [],
   "source": [
    "import fitz # PyMuPDF\n",
    "import pandas as pd\n",
    "import re\n",
    "import os\n",
    "from datetime import datetime"
   ]
  },
  {
   "cell_type": "code",
   "execution_count": 2,
   "metadata": {},
   "outputs": [],
   "source": [
    "# Load all the files needed\n",
    "# Folder with the PDFs\n",
    "pdf_folder = r'G:\\ACCOUNT PAYABLE\\001 - INVOICES - FATTURE\\LOGISTIC INVOICES\\1- NEW\\MSC invoices received from 06-01-2025'\n",
    "pdf_files = [os.path.join(pdf_folder, f) for f in os.listdir(pdf_folder) if f.endswith(\".pdf\")]\n",
    "\n",
    "# Most recent SOA - NEEDS TO BE CONVERTED FROM 97-2003 Worksheet to regular. The file name will need to be changed to the most recent one\n",
    "soa_file = r'g:\\ACCOUNT PAYABLE\\001 - INVOICES - FATTURE\\LOGISTIC INVOICES\\1- NEW\\MSC invoices received from 06-01-2025\\SOA for PRODOTTI MEDITERRANEI INC- 7-23-2025_1.xlsx'\n",
    "\n",
    "# Bruzzone File \n",
    "bruzzone_file = r'c:\\Users\\ACarrion\\OneDrive - F.lli De Cecco di Filippo Fara San Martino S.p.A\\Documents\\Logistics Invoicing\\Bruzzone\\2025-YTD-Consolidated-Invoices.xlsx'\n",
    "\n",
    "# MSC Tracker File\n",
    "msc_invoice_tracker = r'g:\\ACCOUNT PAYABLE\\001 - INVOICES - FATTURE\\LOGISTIC INVOICES\\1- NEW\\MSC invoices received from 06-01-2025\\MSC Invoice Tracker.xlsx' "
   ]
  },
  {
   "cell_type": "code",
   "execution_count": 3,
   "metadata": {},
   "outputs": [],
   "source": [
    "# Pattern to extract bill of lading\n",
    "bol_pattern = re.compile(r'\\bMEDU\\w+\\b')\n",
    "type_keywords = {\n",
    "    \"Rail Detention\": 'Rail',\n",
    "    \"IMPORT CHASSIS PER DIEM\": \"Chassis Per Diem\",\n",
    "    \"PER DIEM IMPORT\": \"Per Diem\",\n",
    "    \"FREIGHT INVOICE\": \"Chassis/Freight\"\n",
    "}"
   ]
  },
  {
   "cell_type": "code",
   "execution_count": 4,
   "metadata": {},
   "outputs": [],
   "source": [
    "invoice_data_minimal = []\n",
    "\n",
    "for filepath in pdf_files:\n",
    "    with fitz.open(filepath) as doc:\n",
    "        text = ''\n",
    "        for page in doc:\n",
    "            text += page.get_text()\n",
    "        \n",
    "        # Invoice number = filename without extensions\n",
    "        filename = os.path.basename(filepath)\n",
    "        invoice_number = os.path.splitext(filename)[0]\n",
    "\n",
    "        # Extract first BOL number\n",
    "        bol_match = bol_pattern.findall(text)\n",
    "        bol = bol_match[0] if bol_match else \"\"\n",
    "\n",
    "        # Classify type from keywords\n",
    "        invoice_type = \"Unknown\"\n",
    "        for keyword, label in type_keywords.items():\n",
    "            if keyword.lower() in text.lower():\n",
    "                invoice_type = label\n",
    "                break\n",
    "        \n",
    "        invoice_data_minimal.append({\n",
    "            \"Filename\": filename,\n",
    "            \"Invoice Number\": invoice_number,\n",
    "            \"BOL Number\": bol,\n",
    "            \"Invoice Type\": invoice_type\n",
    "        })\n",
    "\n",
    "# Create dataframe for phase 1 output\n",
    "df_minimal = pd.DataFrame(invoice_data_minimal)\n",
    "\n",
    "timestamp  = datetime.now().strftime('%Y%m%d_%H%M')\n",
    "file_name = f'LIST_OPEN_INVOICES_{timestamp}.xlsx'\n",
    "save_path = os.path.join(pdf_folder, file_name)\n",
    "\n",
    "# Save to MSC INVOICES received from 06-01-2025\n",
    "# df_minimal.to_excel(save_path, index=False)"
   ]
  },
  {
   "cell_type": "code",
   "execution_count": 5,
   "metadata": {},
   "outputs": [
    {
     "data": {
      "text/plain": [
       "(144, 4)"
      ]
     },
     "execution_count": 5,
     "metadata": {},
     "output_type": "execute_result"
    }
   ],
   "source": [
    "df_minimal.to_excel(save_path, index=False)\n",
    "df_minimal.shape"
   ]
  },
  {
   "cell_type": "code",
   "execution_count": 6,
   "metadata": {},
   "outputs": [],
   "source": [
    "\n",
    "# Load sheet Ocean Freight \n",
    "df_soa_oceanFreight = pd.read_excel(soa_file, sheet_name='Ocean Freight')\n",
    "df_soa_oceanFreight.rename(columns={'BOL': 'Invoice Number'}, inplace=True)\n",
    "df_soa_oceanFreight['BOL'] = df_soa_oceanFreight['Invoice Number']\n",
    "# Keep Relevant Columns\n",
    "df_soa_oceanFreight = df_soa_oceanFreight[['Invoice Number', 'BOL', 'Invoice Date', 'Due Date', 'Manifested Amt', 'Paid',\n",
    "                                           'Outstanding amt#', 'Containers','Disputed?', 'Dispute Status',]]"
   ]
  },
  {
   "cell_type": "code",
   "execution_count": 7,
   "metadata": {},
   "outputs": [],
   "source": [
    "# Load Non-OFT sheet\n",
    "df_soa_non_oft = pd.read_excel(soa_file, sheet_name='Non-OFT')\n",
    "df_soa_non_oft.rename(columns={'BOLs': 'BOL'}, inplace=True)\n",
    "# Keep Relevant Columns\n",
    "df_soa_non_oft = df_soa_non_oft[['Invoice Number', 'Invoice Date', 'Manifested Amt', 'Paid', 'Outstanding amt#', 'BOL', 'Containers',\n",
    "                                 'Disputed?',  'Dispute Status']]\n"
   ]
  },
  {
   "cell_type": "code",
   "execution_count": 8,
   "metadata": {},
   "outputs": [],
   "source": [
    "# Combine both sheets\n",
    "soa_combined = pd.concat([df_soa_oceanFreight, df_soa_non_oft], axis=0, join='outer')"
   ]
  },
  {
   "cell_type": "code",
   "execution_count": 9,
   "metadata": {},
   "outputs": [
    {
     "data": {
      "text/html": [
       "<div>\n",
       "<style scoped>\n",
       "    .dataframe tbody tr th:only-of-type {\n",
       "        vertical-align: middle;\n",
       "    }\n",
       "\n",
       "    .dataframe tbody tr th {\n",
       "        vertical-align: top;\n",
       "    }\n",
       "\n",
       "    .dataframe thead th {\n",
       "        text-align: right;\n",
       "    }\n",
       "</style>\n",
       "<table border=\"1\" class=\"dataframe\">\n",
       "  <thead>\n",
       "    <tr style=\"text-align: right;\">\n",
       "      <th></th>\n",
       "      <th>BOL</th>\n",
       "      <th>PO</th>\n",
       "      <th>Customer</th>\n",
       "    </tr>\n",
       "  </thead>\n",
       "  <tbody>\n",
       "    <tr>\n",
       "      <th>0</th>\n",
       "      <td>MEDUGD708889</td>\n",
       "      <td>4500195790</td>\n",
       "      <td>DAIRYLAND BEL CANTO WAREHOUSE</td>\n",
       "    </tr>\n",
       "    <tr>\n",
       "      <th>1</th>\n",
       "      <td>MEDUGD683371</td>\n",
       "      <td>4500200541</td>\n",
       "      <td>SADDLE CREEK LOGISTICS SVCS</td>\n",
       "    </tr>\n",
       "    <tr>\n",
       "      <th>2</th>\n",
       "      <td>MEDUGD683926</td>\n",
       "      <td>4500200436</td>\n",
       "      <td>UNFI MORENO VALLEY</td>\n",
       "    </tr>\n",
       "    <tr>\n",
       "      <th>3</th>\n",
       "      <td>MEDUGD734729</td>\n",
       "      <td>4500200323</td>\n",
       "      <td>UNFI RICHURG</td>\n",
       "    </tr>\n",
       "    <tr>\n",
       "      <th>4</th>\n",
       "      <td>MEDUGD735015</td>\n",
       "      <td>4500200831</td>\n",
       "      <td>INTERNATIONAL GOURMET FOOD INC</td>\n",
       "    </tr>\n",
       "    <tr>\n",
       "      <th>...</th>\n",
       "      <td>...</td>\n",
       "      <td>...</td>\n",
       "      <td>...</td>\n",
       "    </tr>\n",
       "    <tr>\n",
       "      <th>5623</th>\n",
       "      <td>MEDUGK238293</td>\n",
       "      <td>4500215138</td>\n",
       "      <td>KEHE FOOD DISTRIBUTORS INC</td>\n",
       "    </tr>\n",
       "    <tr>\n",
       "      <th>5624</th>\n",
       "      <td>MEDUGK244549</td>\n",
       "      <td>4500215131</td>\n",
       "      <td>PERFORMANCE FOOD SERVICE INC</td>\n",
       "    </tr>\n",
       "    <tr>\n",
       "      <th>5625</th>\n",
       "      <td>MEDUGK243434</td>\n",
       "      <td>4500214779</td>\n",
       "      <td>BAUGH NORTHEAST CO-OP INC</td>\n",
       "    </tr>\n",
       "    <tr>\n",
       "      <th>5626</th>\n",
       "      <td>MEDUGK249043</td>\n",
       "      <td>4500215243</td>\n",
       "      <td>GRECO &amp; SONS INC</td>\n",
       "    </tr>\n",
       "    <tr>\n",
       "      <th>5627</th>\n",
       "      <td>MEDUGK248938</td>\n",
       "      <td>4500214955</td>\n",
       "      <td>EUROPEAN IMPORTS INC</td>\n",
       "    </tr>\n",
       "  </tbody>\n",
       "</table>\n",
       "<p>793 rows × 3 columns</p>\n",
       "</div>"
      ],
      "text/plain": [
       "               BOL          PO                        Customer\n",
       "0     MEDUGD708889  4500195790   DAIRYLAND BEL CANTO WAREHOUSE\n",
       "1     MEDUGD683371  4500200541     SADDLE CREEK LOGISTICS SVCS\n",
       "2     MEDUGD683926  4500200436              UNFI MORENO VALLEY\n",
       "3     MEDUGD734729  4500200323                    UNFI RICHURG\n",
       "4     MEDUGD735015  4500200831  INTERNATIONAL GOURMET FOOD INC\n",
       "...            ...         ...                             ...\n",
       "5623  MEDUGK238293  4500215138      KEHE FOOD DISTRIBUTORS INC\n",
       "5624  MEDUGK244549  4500215131    PERFORMANCE FOOD SERVICE INC\n",
       "5625  MEDUGK243434  4500214779       BAUGH NORTHEAST CO-OP INC\n",
       "5626  MEDUGK249043  4500215243                GRECO & SONS INC\n",
       "5627  MEDUGK248938  4500214955            EUROPEAN IMPORTS INC\n",
       "\n",
       "[793 rows x 3 columns]"
      ]
     },
     "execution_count": 9,
     "metadata": {},
     "output_type": "execute_result"
    }
   ],
   "source": [
    "# Merge to Bruzzone to get Customer and PO\n",
    "df_bruzzone = pd.read_excel(bruzzone_file)\n",
    "df_bruzzone.rename(columns={'Customer Ref # 1': 'PO', 'BILL OF LADING #': 'BOL', 'DELIVER TO NAME': 'Customer'}, inplace=True)\n",
    "df_bruzzone.columns\n",
    "# Keep Relevant Columns\n",
    "df_bruzzone = df_bruzzone[['BOL', 'PO', 'Customer']]\n",
    "df_bruzzone = df_bruzzone.drop_duplicates(subset=['BOL'])\n",
    "df_bruzzone"
   ]
  },
  {
   "cell_type": "code",
   "execution_count": 10,
   "metadata": {},
   "outputs": [
    {
     "data": {
      "text/plain": [
       "Index(['Invoice Number', 'BOL', 'Invoice Date', 'Due Date', 'Manifested Amt',\n",
       "       'Paid', 'Outstanding amt#', 'Containers', 'Disputed?', 'Dispute Status',\n",
       "       'PO', 'Customer'],\n",
       "      dtype='object')"
      ]
     },
     "execution_count": 10,
     "metadata": {},
     "output_type": "execute_result"
    }
   ],
   "source": [
    "df_customer = pd.merge(soa_combined, df_bruzzone, on='BOL', how='left')\n",
    "df_customer.columns"
   ]
  },
  {
   "cell_type": "code",
   "execution_count": 11,
   "metadata": {},
   "outputs": [],
   "source": [
    "# Check if we have the pdfs for the invoices in the statement\n",
    "minimal_invoices = set(df_minimal['Invoice Number'])\n",
    "df_customer['Invoice on File'] = df_customer['Invoice Number'].apply(lambda x: 'Yes' if x in minimal_invoices else 'No')"
   ]
  },
  {
   "cell_type": "code",
   "execution_count": 12,
   "metadata": {},
   "outputs": [
    {
     "data": {
      "text/html": [
       "<div>\n",
       "<style scoped>\n",
       "    .dataframe tbody tr th:only-of-type {\n",
       "        vertical-align: middle;\n",
       "    }\n",
       "\n",
       "    .dataframe tbody tr th {\n",
       "        vertical-align: top;\n",
       "    }\n",
       "\n",
       "    .dataframe thead th {\n",
       "        text-align: right;\n",
       "    }\n",
       "</style>\n",
       "<table border=\"1\" class=\"dataframe\">\n",
       "  <thead>\n",
       "    <tr style=\"text-align: right;\">\n",
       "      <th></th>\n",
       "      <th>Filename</th>\n",
       "      <th>Invoice Number</th>\n",
       "      <th>BOL Number</th>\n",
       "      <th>Invoice Type</th>\n",
       "      <th>BOL</th>\n",
       "      <th>_merge</th>\n",
       "    </tr>\n",
       "  </thead>\n",
       "  <tbody>\n",
       "    <tr>\n",
       "      <th>0</th>\n",
       "      <td>100000393087R.pdf</td>\n",
       "      <td>100000393087R</td>\n",
       "      <td>MEDUGD729539</td>\n",
       "      <td>Rail</td>\n",
       "      <td>MEDUGD729539</td>\n",
       "      <td>both</td>\n",
       "    </tr>\n",
       "    <tr>\n",
       "      <th>1</th>\n",
       "      <td>100000400964R.pdf</td>\n",
       "      <td>100000400964R</td>\n",
       "      <td>MEDUFK205765</td>\n",
       "      <td>Rail</td>\n",
       "      <td>MEDUFK205765</td>\n",
       "      <td>both</td>\n",
       "    </tr>\n",
       "    <tr>\n",
       "      <th>2</th>\n",
       "      <td>100000401437R.pdf</td>\n",
       "      <td>100000401437R</td>\n",
       "      <td>MEDUFK440420</td>\n",
       "      <td>Rail</td>\n",
       "      <td>MEDUFK440420</td>\n",
       "      <td>both</td>\n",
       "    </tr>\n",
       "    <tr>\n",
       "      <th>3</th>\n",
       "      <td>100000404538R.pdf</td>\n",
       "      <td>100000404538R</td>\n",
       "      <td>MEDUFK205633</td>\n",
       "      <td>Rail</td>\n",
       "      <td>MEDUFK205633</td>\n",
       "      <td>both</td>\n",
       "    </tr>\n",
       "    <tr>\n",
       "      <th>4</th>\n",
       "      <td>100000404846R.pdf</td>\n",
       "      <td>100000404846R</td>\n",
       "      <td>MEDUFK600460</td>\n",
       "      <td>Rail</td>\n",
       "      <td>MEDUFK600460</td>\n",
       "      <td>both</td>\n",
       "    </tr>\n",
       "    <tr>\n",
       "      <th>...</th>\n",
       "      <td>...</td>\n",
       "      <td>...</td>\n",
       "      <td>...</td>\n",
       "      <td>...</td>\n",
       "      <td>...</td>\n",
       "      <td>...</td>\n",
       "    </tr>\n",
       "    <tr>\n",
       "      <th>139</th>\n",
       "      <td>MEDUGK144244.pdf</td>\n",
       "      <td>MEDUGK144244</td>\n",
       "      <td>MEDUGK144244</td>\n",
       "      <td>Chassis/Freight</td>\n",
       "      <td>MEDUGK144244</td>\n",
       "      <td>both</td>\n",
       "    </tr>\n",
       "    <tr>\n",
       "      <th>140</th>\n",
       "      <td>MEDUGK181899.pdf</td>\n",
       "      <td>MEDUGK181899</td>\n",
       "      <td>MEDUGK181899</td>\n",
       "      <td>Chassis/Freight</td>\n",
       "      <td>NaN</td>\n",
       "      <td>left_only</td>\n",
       "    </tr>\n",
       "    <tr>\n",
       "      <th>141</th>\n",
       "      <td>MEDUGK220176.pdf</td>\n",
       "      <td>MEDUGK220176</td>\n",
       "      <td>MEDUGK220176</td>\n",
       "      <td>Chassis/Freight</td>\n",
       "      <td>MEDUGK220176</td>\n",
       "      <td>both</td>\n",
       "    </tr>\n",
       "    <tr>\n",
       "      <th>142</th>\n",
       "      <td>MEDUGK243434.pdf</td>\n",
       "      <td>MEDUGK243434</td>\n",
       "      <td>MEDUGK243434</td>\n",
       "      <td>Chassis/Freight</td>\n",
       "      <td>NaN</td>\n",
       "      <td>left_only</td>\n",
       "    </tr>\n",
       "    <tr>\n",
       "      <th>143</th>\n",
       "      <td>MEDUGK244549.pdf</td>\n",
       "      <td>MEDUGK244549</td>\n",
       "      <td>MEDUGK244549</td>\n",
       "      <td>Chassis/Freight</td>\n",
       "      <td>NaN</td>\n",
       "      <td>left_only</td>\n",
       "    </tr>\n",
       "  </tbody>\n",
       "</table>\n",
       "<p>144 rows × 6 columns</p>\n",
       "</div>"
      ],
      "text/plain": [
       "              Filename Invoice Number    BOL Number     Invoice Type  \\\n",
       "0    100000393087R.pdf  100000393087R  MEDUGD729539             Rail   \n",
       "1    100000400964R.pdf  100000400964R  MEDUFK205765             Rail   \n",
       "2    100000401437R.pdf  100000401437R  MEDUFK440420             Rail   \n",
       "3    100000404538R.pdf  100000404538R  MEDUFK205633             Rail   \n",
       "4    100000404846R.pdf  100000404846R  MEDUFK600460             Rail   \n",
       "..                 ...            ...           ...              ...   \n",
       "139   MEDUGK144244.pdf   MEDUGK144244  MEDUGK144244  Chassis/Freight   \n",
       "140   MEDUGK181899.pdf   MEDUGK181899  MEDUGK181899  Chassis/Freight   \n",
       "141   MEDUGK220176.pdf   MEDUGK220176  MEDUGK220176  Chassis/Freight   \n",
       "142   MEDUGK243434.pdf   MEDUGK243434  MEDUGK243434  Chassis/Freight   \n",
       "143   MEDUGK244549.pdf   MEDUGK244549  MEDUGK244549  Chassis/Freight   \n",
       "\n",
       "              BOL     _merge  \n",
       "0    MEDUGD729539       both  \n",
       "1    MEDUFK205765       both  \n",
       "2    MEDUFK440420       both  \n",
       "3    MEDUFK205633       both  \n",
       "4    MEDUFK600460       both  \n",
       "..            ...        ...  \n",
       "139  MEDUGK144244       both  \n",
       "140           NaN  left_only  \n",
       "141  MEDUGK220176       both  \n",
       "142           NaN  left_only  \n",
       "143           NaN  left_only  \n",
       "\n",
       "[144 rows x 6 columns]"
      ]
     },
     "execution_count": 12,
     "metadata": {},
     "output_type": "execute_result"
    }
   ],
   "source": [
    "# Check if invoices in the folder are NOT in the statement\n",
    "invoices_check = pd.merge(df_minimal, df_customer[['Invoice Number', 'BOL']], on='Invoice Number', how='left', indicator=True)\n",
    "invoices_check"
   ]
  },
  {
   "cell_type": "code",
   "execution_count": 13,
   "metadata": {},
   "outputs": [
    {
     "data": {
      "text/plain": [
       "Index(['Invoice Date', 'Invoice Number', 'BOL', 'Container Number', 'Service',\n",
       "       'Amount ', 'Invoice Status', 'Notes', 'Customer', 'PO'],\n",
       "      dtype='object')"
      ]
     },
     "execution_count": 13,
     "metadata": {},
     "output_type": "execute_result"
    }
   ],
   "source": [
    "df_invoice_tracker = pd.read_excel(msc_invoice_tracker, sheet_name= 'MSC Open Invoices')\n",
    "df_invoice_tracker.columns"
   ]
  },
  {
   "cell_type": "code",
   "execution_count": 14,
   "metadata": {},
   "outputs": [],
   "source": [
    "final_merge = pd.merge(df_customer, df_invoice_tracker[['Invoice Number','Invoice Status', 'Notes']], on='Invoice Number', how='left')\n",
    "final_merge.to_excel(f'SOA_CHECK_{timestamp}.xlsx', index=False)"
   ]
  }
 ],
 "metadata": {
  "kernelspec": {
   "display_name": "base",
   "language": "python",
   "name": "python3"
  },
  "language_info": {
   "codemirror_mode": {
    "name": "ipython",
    "version": 3
   },
   "file_extension": ".py",
   "mimetype": "text/x-python",
   "name": "python",
   "nbconvert_exporter": "python",
   "pygments_lexer": "ipython3",
   "version": "3.12.4"
  }
 },
 "nbformat": 4,
 "nbformat_minor": 2
}
